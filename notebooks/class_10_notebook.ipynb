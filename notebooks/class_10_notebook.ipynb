{
 "cells": [
  {
   "cell_type": "markdown",
   "metadata": {},
   "source": [
    "# **Class 10: LangChain: Building Tools and Agents for Intelligent Interactions**"
   ]
  },
  {
   "cell_type": "markdown",
   "metadata": {
    "vscode": {
     "languageId": "plaintext"
    }
   },
   "source": [
    "- **Introduction to LangChain Tools and Agents**\n",
    "  - Overview of LangChain as a framework to extend language model capabilities\n",
    "  - Explanation of Tools: External utilities and APIs for performing tasks\n",
    "  - Explanation of Agents: Autonomous entities that utilize tools for goal-driven tasks\n",
    "\n",
    "- **SQLite Database Creation for E-commerce Chatbot**\n",
    "  - Set up a database to manage essential components: products, clients, and orders\n",
    "  - Understand the structure and relationships between these database tables\n",
    "\n",
    "- **Utilizing Built-in SQL Tools in LangChain**\n",
    "  - Introduction to the SQLDatabaseToolkit\n",
    "  - Demonstrate how to create an Agent that converts natural language queries into SQL queries\n",
    "  - Generate natural language responses from the executed SQL queries\n",
    "\n",
    "- **Creating Custom Tools in LangChain**\n",
    "  - Develop `CreateOrderTool` to facilitate the creation of new orders in the orders table\n",
    "  - Develop `GetOrderTool` to retrieve existing order information\n",
    "  - Explore how these tools can dynamically interact with the orders table\n",
    "\n",
    "- **Developing an Agent with Custom Tools**\n",
    "  - Assemble an Agent that integrates both `CreateOrderTool` and `GetOrderTool`\n",
    "  - Enable the Agent to process and respond to complex tasks related to orders\n",
    "  - Showcase real-world applications of this Agent in an e-commerce context\n",
    "\n",
    "- **Conclusion**\n",
    "  - Recap of using Tools and Agents to enhance language model applications\n",
    "  - Encourage experimentation with custom tools to meet specific application needs \n",
    "  - Discuss potential projects and further exploration of LangChain capabilities."
   ]
  },
  {
   "cell_type": "code",
   "execution_count": 21,
   "metadata": {},
   "outputs": [],
   "source": [
    "import pickle\n",
    "\n",
    "# Load the products catalog from a pickle file\n",
    "with open(\"products_catalog.pkl\", \"rb\") as handle:\n",
    "    products_catalog = pickle.load(handle)"
   ]
  },
  {
   "cell_type": "code",
   "execution_count": 22,
   "metadata": {},
   "outputs": [
    {
     "data": {
      "text/plain": [
       "{'name': 'TechPro Ultrabook',\n",
       " 'category': 'Computers and Laptops',\n",
       " 'brand': 'TechPro',\n",
       " 'model_number': 'TP-UB100',\n",
       " 'warranty': '1 year',\n",
       " 'rating': 4.5,\n",
       " 'features': ['13.3-inch display',\n",
       "  '8GB RAM',\n",
       "  '256GB SSD',\n",
       "  'Intel Core i5 processor'],\n",
       " 'description': 'A sleek and lightweight ultrabook for everyday use.',\n",
       " 'price': 799.99}"
      ]
     },
     "execution_count": 22,
     "metadata": {},
     "output_type": "execute_result"
    }
   ],
   "source": [
    "products_catalog[\"TechPro Ultrabook\"]"
   ]
  },
  {
   "cell_type": "markdown",
   "metadata": {},
   "source": [
    "Each product has a name, category, brand, model_number, warranty, rating, features, description and price."
   ]
  },
  {
   "cell_type": "code",
   "execution_count": null,
   "metadata": {},
   "outputs": [
    {
     "data": {
      "text/plain": [
       "<sqlite3.Cursor at 0x1cafeb6ad40>"
      ]
     },
     "execution_count": 23,
     "metadata": {},
     "output_type": "execute_result"
    }
   ],
   "source": [
    "import sqlite3\n",
    "\n",
    "# Create the database\n",
    "conn = sqlite3.connect('ecommerce.db')\n",
    "c = conn.cursor()\n",
    "\n",
    "# Create the products table\n",
    "c.execute('''CREATE TABLE products\n",
    "             (product_id INTEGER PRIMARY KEY,\n",
    "              name TEXT,\n",
    "              category TEXT,\n",
    "              brand TEXT,\n",
    "              model_number TEXT,\n",
    "              warranty INTEGER,\n",
    "              rating REAL,\n",
    "              features TEXT,\n",
    "              description TEXT,\n",
    "              price REAL)''')\n",
    "\n",
    "# Create the customers table\n",
    "c.execute('''CREATE TABLE customers\n",
    "             (customer_id INTEGER PRIMARY KEY,\n",
    "              first_name TEXT,\n",
    "              last_name TEXT,\n",
    "              email TEXT,\n",
    "              phone TEXT)''')\n",
    "\n",
    "\n",
    "# Create the orders table\n",
    "# Each order is associated with a customer and a product\n",
    "# Create the orders table\n",
    "c.execute('''CREATE TABLE orders\n",
    "             (order_id INTEGER PRIMARY KEY,\n",
    "              customer_id INTEGER,\n",
    "              product_id INTEGER,\n",
    "              quantity INTEGER,\n",
    "              total_amount REAL,\n",
    "              order_date TEXT,\n",
    "              FOREIGN KEY (customer_id) REFERENCES customers(customer_id),\n",
    "              FOREIGN KEY (product_id) REFERENCES products(product_id))''')\n",
    "\n",
    "conn.commit()\n",
    "conn.close()"
   ]
  },
  {
   "cell_type": "markdown",
   "metadata": {},
   "source": [
    "Let's populate the products table with our products catalog."
   ]
  },
  {
   "cell_type": "code",
   "execution_count": null,
   "metadata": {},
   "outputs": [],
   "source": [
    "import json\n",
    "\n",
    "# Connect to the database\n",
    "conn = sqlite3.connect('ecommerce.db')\n",
    "c = conn.cursor()\n",
    "\n",
    "for product in products_catalog.values():\n",
    "    c.execute(\"INSERT INTO products (name, category, brand, model_number, warranty, rating, features, description, price) VALUES (?, ?, ?, ?, ?, ?, ?, ?, ?)\",\n",
    "              (product[\"name\"], product[\"category\"], product[\"brand\"], product[\"model_number\"], product[\"warranty\"], product[\"rating\"], json.dumps(product[\"features\"]), product[\"description\"], product[\"price\"]))\n",
    "\n",
    "conn.commit()\n",
    "conn.close()"
   ]
  },
  {
   "cell_type": "code",
   "execution_count": 26,
   "metadata": {},
   "outputs": [],
   "source": [
    "# Connect to the database\n",
    "conn = sqlite3.connect('ecommerce.db')\n",
    "c = conn.cursor()\n",
    "\n",
    "# Insert sample data\n",
    "c.execute(\"INSERT INTO customers (first_name, last_name, email, phone) VALUES (?, ?, ?, ?)\", (\"John\",\"Doe\", \"john.doe@example.com\", \"555-1234\"))\n",
    "c.execute(\"INSERT INTO customers (first_name, last_name, email, phone) VALUES (?, ?, ?, ?)\", (\"Jane\", \"Smith\", \"jane.smith@example.com\", \"555-5678\"))\n",
    "\n",
    "conn.commit()\n",
    "conn.close()"
   ]
  },
  {
   "cell_type": "code",
   "execution_count": 27,
   "metadata": {},
   "outputs": [],
   "source": [
    "# Connect to the database\n",
    "conn = sqlite3.connect('ecommerce.db')\n",
    "c = conn.cursor()\n",
    "\n",
    "# Insert sample data\n",
    "c.execute(\"INSERT INTO orders (customer_id, product_id, quantity, total_amount, order_date) VALUES (?, ?, ?, ?, ?)\", (1, 1, 1, 799.99, \"2023-09-01\"))\n",
    "c.execute(\"INSERT INTO orders (customer_id, product_id, quantity, total_amount, order_date) VALUES (?, ?, ?, ?, ?)\", (2, 2, 1, 1199.99, \"2023-09-15\"))\n",
    "\n",
    "conn.commit()\n",
    "conn.close()"
   ]
  },
  {
   "cell_type": "markdown",
   "metadata": {},
   "source": [
    "**Chains** serve as the backbone of workflow automation, organizing a sequence of operations into a coherent process that transforms input data step-by-step to achieve desired results. By linking various actions—such as parsing user input, performing calculations, and generating responses—Chains ensure a structured and efficient execution path, allowing developers to design comprehensive processes that can handle sophisticated tasks effortlessly. **Benefit from memory** by storing intermediate states or results as they process input data through their sequence of operations."
   ]
  },
  {
   "cell_type": "code",
   "execution_count": null,
   "metadata": {},
   "outputs": [],
   "source": [
    "from dotenv import load_dotenv\n",
    "\n",
    "load_dotenv()"
   ]
  },
  {
   "cell_type": "code",
   "execution_count": 9,
   "metadata": {},
   "outputs": [],
   "source": [
    "from langchain.prompts import (\n",
    "    ChatPromptTemplate,\n",
    "    SystemMessagePromptTemplate,\n",
    "    HumanMessagePromptTemplate\n",
    ")\n",
    "\n",
    "# Define the prompt template for translation\n",
    "prompt = ChatPromptTemplate.from_messages(\n",
    "    [   \n",
    "        SystemMessagePromptTemplate.from_template(\"Translate the following review to English.\"),\n",
    "        HumanMessagePromptTemplate.from_template(\"{text}\"),\n",
    "    ]\n",
    ")"
   ]
  },
  {
   "cell_type": "code",
   "execution_count": 10,
   "metadata": {},
   "outputs": [],
   "source": [
    "from langchain.chat_models import ChatOpenAI\n",
    "\n",
    "# To control the randomness and creativity of the generated\n",
    "# text by an LLM, use temperature = 0.0\n",
    "llm = ChatOpenAI(temperature=0.0, model='gpt-3.5-turbo')"
   ]
  },
  {
   "cell_type": "code",
   "execution_count": 11,
   "metadata": {},
   "outputs": [],
   "source": [
    "from langchain_core.output_parsers.string import StrOutputParser\n",
    "\n",
    "# Define the output parser\n",
    "output_parser = StrOutputParser()"
   ]
  },
  {
   "cell_type": "code",
   "execution_count": 12,
   "metadata": {},
   "outputs": [],
   "source": [
    "chain = prompt | llm | output_parser"
   ]
  },
  {
   "cell_type": "code",
   "execution_count": 13,
   "metadata": {},
   "outputs": [
    {
     "data": {
      "text/plain": [
       "'Staying at this hotel was very nice. The staff was very helpful and the rooms were very clean.'"
      ]
     },
     "execution_count": 13,
     "metadata": {},
     "output_type": "execute_result"
    }
   ],
   "source": [
    "chain.invoke({\"text\": \"Bu otelde kalmak çok güzeldi. Personel çok yardımseverdi ve odalar çok temizdi.\"})"
   ]
  },
  {
   "cell_type": "markdown",
   "metadata": {
    "vscode": {
     "languageId": "plaintext"
    }
   },
   "source": [
    "LangChain provides `SQLDatabase` SQLAlchemy wrapper around a database."
   ]
  },
  {
   "cell_type": "code",
   "execution_count": 28,
   "metadata": {},
   "outputs": [],
   "source": [
    "from langchain_community.agent_toolkits.sql.toolkit import SQLDatabaseToolkit\n",
    "from langchain_community.utilities.sql_database import SQLDatabase\n",
    "from langchain_openai import ChatOpenAI\n",
    "\n",
    "# Path to your SQLite .db file\n",
    "db_path = 'ecommerce.db'\n",
    "\n",
    "# Create a SQLDatabase object\n",
    "db = SQLDatabase.from_uri(f'sqlite:///{db_path}')\n",
    "\n",
    "llm = ChatOpenAI(model=\"gpt-4o-mini\")"
   ]
  },
  {
   "cell_type": "markdown",
   "metadata": {},
   "source": [
    "We can run SQL queries directly on the SQLDatabase instance."
   ]
  },
  {
   "cell_type": "code",
   "execution_count": null,
   "metadata": {},
   "outputs": [],
   "source": [
    "db.run(\"SELECT * FROM products\")"
   ]
  },
  {
   "cell_type": "markdown",
   "metadata": {},
   "source": [
    "We can the check the sql dialect used by the database and the names of the tables in the database."
   ]
  },
  {
   "cell_type": "code",
   "execution_count": 29,
   "metadata": {},
   "outputs": [
    {
     "name": "stdout",
     "output_type": "stream",
     "text": [
      "sqlite\n",
      "['customers', 'orders', 'products']\n"
     ]
    }
   ],
   "source": [
    "print(db.dialect)\n",
    "print(db.get_usable_table_names())"
   ]
  },
  {
   "cell_type": "markdown",
   "metadata": {},
   "source": [
    "`create_sql_query_chain` create a chain that generates SQL queries."
   ]
  },
  {
   "cell_type": "code",
   "execution_count": 30,
   "metadata": {},
   "outputs": [],
   "source": [
    "from langchain.chains import create_sql_query_chain\n",
    "\n",
    "chain = create_sql_query_chain(llm, db)\n",
    "response = chain.invoke({\"question\": \"What are the products?\"})"
   ]
  },
  {
   "cell_type": "code",
   "execution_count": 31,
   "metadata": {},
   "outputs": [
    {
     "data": {
      "text/plain": [
       "'SQLQuery: SELECT \"product_id\", \"name\", \"category\", \"brand\", \"price\" FROM products LIMIT 5;'"
      ]
     },
     "execution_count": 31,
     "metadata": {},
     "output_type": "execute_result"
    }
   ],
   "source": [
    "response"
   ]
  },
  {
   "cell_type": "markdown",
   "metadata": {},
   "source": [
    "**Tools** provide the necessary functional extensions that allow language models to interact with external systems, such as databases or APIs. By integrating these specialized utilities, Tools enable language models to perform actions beyond text manipulation, such as querying databases, retrieving web data, or executing complex computations. This expansion of capabilities allows for the creation of applications that can operate effectively in diverse scenarios, making language models more versatile and applicable to a wide range of practical applications. **Typically operate without intrinsic memory**, focusing instead on providing specific, stateless services or computations"
   ]
  },
  {
   "cell_type": "markdown",
   "metadata": {},
   "source": [
    "LangChain has a built-in `SQLDatabaseToolkit` that provides tools for interacting with SQL databases."
   ]
  },
  {
   "cell_type": "code",
   "execution_count": 32,
   "metadata": {},
   "outputs": [],
   "source": [
    "toolkit = SQLDatabaseToolkit(db=db, llm=llm)"
   ]
  },
  {
   "cell_type": "code",
   "execution_count": 33,
   "metadata": {},
   "outputs": [
    {
     "data": {
      "text/plain": [
       "[QuerySQLDataBaseTool(description=\"Input to this tool is a detailed and correct SQL query, output is a result from the database. If the query is not correct, an error message will be returned. If an error is returned, rewrite the query, check the query, and try again. If you encounter an issue with Unknown column 'xxxx' in 'field list', use sql_db_schema to query the correct table fields.\", db=<langchain_community.utilities.sql_database.SQLDatabase object at 0x000001CAFF489E50>),\n",
       " InfoSQLDatabaseTool(description='Input to this tool is a comma-separated list of tables, output is the schema and sample rows for those tables. Be sure that the tables actually exist by calling sql_db_list_tables first! Example Input: table1, table2, table3', db=<langchain_community.utilities.sql_database.SQLDatabase object at 0x000001CAFF489E50>),\n",
       " ListSQLDatabaseTool(db=<langchain_community.utilities.sql_database.SQLDatabase object at 0x000001CAFF489E50>),\n",
       " QuerySQLCheckerTool(description='Use this tool to double check if your query is correct before executing it. Always use this tool before executing a query with sql_db_query!', db=<langchain_community.utilities.sql_database.SQLDatabase object at 0x000001CAFF489E50>, llm=ChatOpenAI(client=<openai.resources.chat.completions.Completions object at 0x000001CAFF498E50>, async_client=<openai.resources.chat.completions.AsyncCompletions object at 0x000001CAFF3E86D0>, root_client=<openai.OpenAI object at 0x000001CAFF48AFD0>, root_async_client=<openai.AsyncOpenAI object at 0x000001CAFF6C7110>, model_name='gpt-4o-mini', model_kwargs={}, openai_api_key=SecretStr('**********')), llm_chain=LLMChain(verbose=False, prompt=PromptTemplate(input_variables=['dialect', 'query'], input_types={}, partial_variables={}, template='\\n{query}\\nDouble check the {dialect} query above for common mistakes, including:\\n- Using NOT IN with NULL values\\n- Using UNION when UNION ALL should have been used\\n- Using BETWEEN for exclusive ranges\\n- Data type mismatch in predicates\\n- Properly quoting identifiers\\n- Using the correct number of arguments for functions\\n- Casting to the correct data type\\n- Using the proper columns for joins\\n\\nIf there are any of the above mistakes, rewrite the query. If there are no mistakes, just reproduce the original query.\\n\\nOutput the final SQL query only.\\n\\nSQL Query: '), llm=ChatOpenAI(client=<openai.resources.chat.completions.Completions object at 0x000001CAFF498E50>, async_client=<openai.resources.chat.completions.AsyncCompletions object at 0x000001CAFF3E86D0>, root_client=<openai.OpenAI object at 0x000001CAFF48AFD0>, root_async_client=<openai.AsyncOpenAI object at 0x000001CAFF6C7110>, model_name='gpt-4o-mini', model_kwargs={}, openai_api_key=SecretStr('**********')), output_parser=StrOutputParser(), llm_kwargs={}))]"
      ]
     },
     "execution_count": 33,
     "metadata": {},
     "output_type": "execute_result"
    }
   ],
   "source": [
    "toolkit.get_tools()"
   ]
  },
  {
   "cell_type": "code",
   "execution_count": 34,
   "metadata": {},
   "outputs": [
    {
     "name": "stdout",
     "output_type": "stream",
     "text": [
      "['dialect', 'top_k']\n"
     ]
    }
   ],
   "source": [
    "from langchain import hub\n",
    "\n",
    "# Download the SQL prompt template from the hub\n",
    "sql_prompt_template = hub.pull(\"langchain-ai/sql-agent-system-prompt\")\n",
    "\n",
    "print(sql_prompt_template.input_variables)"
   ]
  },
  {
   "cell_type": "code",
   "execution_count": 35,
   "metadata": {},
   "outputs": [
    {
     "name": "stdout",
     "output_type": "stream",
     "text": [
      "================================\u001b[1m System Message \u001b[0m================================\n",
      "\n",
      "You are an agent designed to interact with a SQL database.\n",
      "Given an input question, create a syntactically correct \u001b[33;1m\u001b[1;3m{dialect}\u001b[0m query to run, then look at the results of the query and return the answer.\n",
      "Unless the user specifies a specific number of examples they wish to obtain, always limit your query to at most \u001b[33;1m\u001b[1;3m{top_k}\u001b[0m results.\n",
      "You can order the results by a relevant column to return the most interesting examples in the database.\n",
      "Never query for all the columns from a specific table, only ask for the relevant columns given the question.\n",
      "You have access to tools for interacting with the database.\n",
      "Only use the below tools. Only use the information returned by the below tools to construct your final answer.\n",
      "You MUST double check your query before executing it. If you get an error while executing a query, rewrite the query and try again.\n",
      "\n",
      "DO NOT make any DML statements (INSERT, UPDATE, DELETE, DROP etc.) to the database.\n",
      "\n",
      "To start you should ALWAYS look at the tables in the database to see what you can query.\n",
      "Do NOT skip this step.\n",
      "Then you should query the schema of the most relevant tables.\n"
     ]
    }
   ],
   "source": [
    "sql_prompt_template.pretty_print()"
   ]
  },
  {
   "cell_type": "markdown",
   "metadata": {},
   "source": [
    "\n",
    "**Agents** act as intelligent orchestrators within the LangChain framework, autonomously managing tasks by employing the appropriate Tools and executing the necessary Chains. They interpret user inputs or environmental cues, decide on the optimal course of action, and dynamically integrate Tools and Chains to fulfill tasks while adapting to changes in context and requirements. This makes Agents the key facilitators of decision-making and problem-solving, driving the interaction between users and the underlying technology to produce intelligent, context-aware, and responsive systems. **Use memory**, as they can maintain context over extended interactions, enabling more personalized and coherent responses."
   ]
  },
  {
   "cell_type": "code",
   "execution_count": 36,
   "metadata": {},
   "outputs": [
    {
     "name": "stdout",
     "output_type": "stream",
     "text": [
      "['agent_scratchpad', 'input']\n"
     ]
    }
   ],
   "source": [
    "from langchain import hub\n",
    "\n",
    "# Doqnload a AgentPrompt from the hub\n",
    "agent_prompt = hub.pull(\"hwchase17/openai-functions-agent\")\n",
    "print(agent_prompt.input_variables)"
   ]
  },
  {
   "cell_type": "code",
   "execution_count": 37,
   "metadata": {},
   "outputs": [
    {
     "name": "stdout",
     "output_type": "stream",
     "text": [
      "================================\u001b[1m System Message \u001b[0m================================\n",
      "\n",
      "You are a helpful assistant\n",
      "\n",
      "=============================\u001b[1m Messages Placeholder \u001b[0m=============================\n",
      "\n",
      "\u001b[33;1m\u001b[1;3m{chat_history}\u001b[0m\n",
      "\n",
      "================================\u001b[1m Human Message \u001b[0m=================================\n",
      "\n",
      "\u001b[33;1m\u001b[1;3m{input}\u001b[0m\n",
      "\n",
      "=============================\u001b[1m Messages Placeholder \u001b[0m=============================\n",
      "\n",
      "\u001b[33;1m\u001b[1;3m{agent_scratchpad}\u001b[0m\n"
     ]
    }
   ],
   "source": [
    "agent_prompt.pretty_print()"
   ]
  },
  {
   "cell_type": "markdown",
   "metadata": {},
   "source": [
    "Let's replace the system message with the SQL Agent system message."
   ]
  },
  {
   "cell_type": "code",
   "execution_count": 39,
   "metadata": {},
   "outputs": [],
   "source": [
    "from langchain.prompts import SystemMessagePromptTemplate\n",
    "\n",
    "system_message = sql_prompt_template.format(dialect=\"SQLite\", top_k=5)\n",
    "\n",
    "system_prompt = SystemMessagePromptTemplate.from_template(system_message)\n",
    "\n",
    "agent_prompt.messages[0] = system_prompt"
   ]
  },
  {
   "cell_type": "code",
   "execution_count": 40,
   "metadata": {},
   "outputs": [
    {
     "name": "stdout",
     "output_type": "stream",
     "text": [
      "================================\u001b[1m System Message \u001b[0m================================\n",
      "\n",
      "System: You are an agent designed to interact with a SQL database.\n",
      "Given an input question, create a syntactically correct SQLite query to run, then look at the results of the query and return the answer.\n",
      "Unless the user specifies a specific number of examples they wish to obtain, always limit your query to at most 5 results.\n",
      "You can order the results by a relevant column to return the most interesting examples in the database.\n",
      "Never query for all the columns from a specific table, only ask for the relevant columns given the question.\n",
      "You have access to tools for interacting with the database.\n",
      "Only use the below tools. Only use the information returned by the below tools to construct your final answer.\n",
      "You MUST double check your query before executing it. If you get an error while executing a query, rewrite the query and try again.\n",
      "\n",
      "DO NOT make any DML statements (INSERT, UPDATE, DELETE, DROP etc.) to the database.\n",
      "\n",
      "To start you should ALWAYS look at the tables in the database to see what you can query.\n",
      "Do NOT skip this step.\n",
      "Then you should query the schema of the most relevant tables.\n",
      "\n",
      "=============================\u001b[1m Messages Placeholder \u001b[0m=============================\n",
      "\n",
      "\u001b[33;1m\u001b[1;3m{chat_history}\u001b[0m\n",
      "\n",
      "================================\u001b[1m Human Message \u001b[0m=================================\n",
      "\n",
      "\u001b[33;1m\u001b[1;3m{input}\u001b[0m\n",
      "\n",
      "=============================\u001b[1m Messages Placeholder \u001b[0m=============================\n",
      "\n",
      "\u001b[33;1m\u001b[1;3m{agent_scratchpad}\u001b[0m\n"
     ]
    }
   ],
   "source": [
    "agent_prompt.pretty_print()"
   ]
  },
  {
   "cell_type": "markdown",
   "metadata": {},
   "source": [
    "Now let's create our first Agent."
   ]
  },
  {
   "cell_type": "code",
   "execution_count": 41,
   "metadata": {},
   "outputs": [],
   "source": [
    "from langchain.agents import create_tool_calling_agent\n",
    "\n",
    "agent = create_tool_calling_agent(llm, toolkit.get_tools(), agent_prompt)"
   ]
  },
  {
   "cell_type": "markdown",
   "metadata": {},
   "source": [
    "Finally, we combine the agent (the brains) with the tools inside the `AgentExecutor` (which will repeatedly call the agent and execute tools)."
   ]
  },
  {
   "cell_type": "code",
   "execution_count": 42,
   "metadata": {},
   "outputs": [],
   "source": [
    "from langchain.agents import AgentExecutor\n",
    "\n",
    "agent_executor = AgentExecutor(agent=agent, tools=toolkit.get_tools())"
   ]
  },
  {
   "cell_type": "code",
   "execution_count": 43,
   "metadata": {},
   "outputs": [
    {
     "data": {
      "text/plain": [
       "{'input': 'hi!', 'output': 'Hello! How can I assist you today?'}"
      ]
     },
     "execution_count": 43,
     "metadata": {},
     "output_type": "execute_result"
    }
   ],
   "source": [
    "agent_executor.invoke({\"input\": \"hi!\"})"
   ]
  },
  {
   "cell_type": "code",
   "execution_count": null,
   "metadata": {},
   "outputs": [],
   "source": [
    "response = agent_executor.invoke({\"input\": \"What are the available products?\"})"
   ]
  },
  {
   "cell_type": "code",
   "execution_count": 48,
   "metadata": {},
   "outputs": [
    {
     "name": "stdout",
     "output_type": "stream",
     "text": [
      "Here are some of the products available:\n",
      "\n",
      "1. **MobiTech Wireless Charger**\n",
      "   - Category: Smartphones and Accessories\n",
      "   - Brand: MobiTech\n",
      "   - Price: $29.99\n",
      "\n",
      "2. **WaveSound Bluetooth Speaker**\n",
      "   - Category: Audio Equipment\n",
      "   - Brand: WaveSound\n",
      "   - Price: $49.99\n",
      "\n",
      "3. **MobiTech PowerCase**\n",
      "   - Category: Smartphones and Accessories\n",
      "   - Brand: MobiTech\n",
      "   - Price: $59.99\n",
      "\n",
      "4. **ProGamer Controller**\n",
      "   - Category: Gaming Consoles and Accessories\n",
      "   - Brand: ProGamer\n",
      "   - Price: $59.99\n",
      "\n",
      "5. **FotoSnap Instant Camera**\n",
      "   - Category: Cameras and Camcorders\n",
      "   - Brand: FotoSnap\n",
      "   - Price: $69.99\n"
     ]
    }
   ],
   "source": [
    "print(response[\"output\"])"
   ]
  },
  {
   "cell_type": "markdown",
   "metadata": {},
   "source": [
    "The SQLToolKit in LangChain is primarily equipped for executing data retrieval via SELECT queries from databases. However, it does not support Data Manipulation Language (DML) operations like INSERT, UPDATE, DELETE, or schema modifications such as DROP. To handle these DML tasks, developers need to create custom Tools by subclassing from the `BaseTool` class. \n",
    "\n",
    "In our session, we will demonstrate this process by developing custom Tools specifically designed for managing orders within our application. We will create a `CreateOrderTool` to facilitate the addition of new orders and a `GetOrderTool` to retrieve existing order details. These custom tools will enable us to interact dynamically with our database, enhancing the functionality of our e-commerce chatbot beyond simple data queries."
   ]
  },
  {
   "cell_type": "code",
   "execution_count": 49,
   "metadata": {},
   "outputs": [],
   "source": [
    "import ast\n",
    "import re\n",
    "\n",
    "\n",
    "def query_as_list(db, query):\n",
    "    res = db.run(query)\n",
    "    res = [el for sub in ast.literal_eval(res) for el in sub if el]\n",
    "    res = [re.sub(r\"\\b\\d+\\b\", \"\", string).strip() for string in res]\n",
    "    return list(set(res))\n",
    "\n",
    "products = query_as_list(db, \"SELECT Name FROM products\")\n",
    "descriptions = query_as_list(db, \"SELECT description FROM products\")"
   ]
  },
  {
   "cell_type": "code",
   "execution_count": null,
   "metadata": {},
   "outputs": [],
   "source": [
    "# Import necessary modules and classes\n",
    "from pydantic import BaseModel, Field\n",
    "from langchain.prompts import (\n",
    "    ChatPromptTemplate,\n",
    "    SystemMessagePromptTemplate,\n",
    "    HumanMessagePromptTemplate,\n",
    "    MessagesPlaceholder,\n",
    ")\n",
    "\n",
    "\n",
    "class PromptTemplate(BaseModel):\n",
    "    \"\"\"Defines templates for system and human messages used in a conversation.\"\"\"\n",
    "\n",
    "    system_template: str = Field(\n",
    "        description=\"Template for the system message in the conversation\"\n",
    "    )\n",
    "    human_template: str = Field(\n",
    "        description=\"Template for the human message in the conversation\"\n",
    "    )\n",
    "\n",
    "\n",
    "def generate_prompt_templates(\n",
    "    prompt_template: PromptTemplate\n",
    ") -> ChatPromptTemplate:\n",
    "    \"\"\"Generate a chat prompt template based on given templates and memory setting.\n",
    "\n",
    "    Args:\n",
    "        prompt_template: An instance of PromptTemplate containing system and human templates.\n",
    "\n",
    "    Returns:\n",
    "        A configured ChatPromptTemplate with specified message structure.\n",
    "    \"\"\"\n",
    "\n",
    "    # Create prompt template without chat history\n",
    "    prompt = ChatPromptTemplate.from_messages(\n",
    "        [\n",
    "            SystemMessagePromptTemplate.from_template(\n",
    "                prompt_template.system_template\n",
    "            ),\n",
    "            HumanMessagePromptTemplate.from_template(\n",
    "                prompt_template.human_template\n",
    "            ),\n",
    "        ]\n",
    "    )\n",
    "\n",
    "    return prompt"
   ]
  },
  {
   "cell_type": "markdown",
   "metadata": {},
   "source": [
    "For our custom order management Tools, `CreateOrderReasoningChain` and `GetOrderReasoningChain`, we will enhance their functionality by developing specialized Chains that extract pertinent information from user input.\n",
    "\n",
    "- **CreateOrderReasoningChain**: This Chain will be designed to gather all necessary details required for creating a new order, such as product ID, quantity, customer information, and any additional preferences. By systematically parsing and structuring user inputs, the CreateOrderChain ensures that the data passed to the `CreateOrderTool` is complete and ready for execution, allowing for seamless order creation within the system.~"
   ]
  },
  {
   "cell_type": "code",
   "execution_count": 54,
   "metadata": {},
   "outputs": [],
   "source": [
    "from langchain.schema.runnable.base import Runnable\n",
    "from langchain.output_parsers import PydanticOutputParser\n",
    "from pydantic import BaseModel\n",
    "from pydantic import BaseModel\n",
    "from langchain_community.utilities.sql_database import SQLDatabase\n",
    "import ast\n",
    "import re\n",
    "\n",
    "\n",
    "class OrderInformation(BaseModel):\n",
    "    product_name: str\n",
    "    quantity: int\n",
    "\n",
    "\n",
    "class CreateOrderReasoningChain(Runnable):\n",
    "    def __init__(self, llm):\n",
    "        super().__init__()\n",
    "\n",
    "        self.llm = llm\n",
    "        # Path to your SQLite .db file\n",
    "        db_path = \"ecommerce.db\"\n",
    "\n",
    "        self.db = SQLDatabase.from_uri(f\"sqlite:///{db_path}\")\n",
    "        self.products_list = self.query_as_list(\"SELECT Name FROM products\")\n",
    "\n",
    "        prompt_template = PromptTemplate(\n",
    "            system_template=\"\"\" \n",
    "            You are a part of the e-commerce team. \n",
    "            Your task is to identify the product name and quantity from the user input.\n",
    "\n",
    "            Here is the list of available products:\n",
    "            {products_list}\n",
    "\n",
    "            Here is the user input:\n",
    "            {customer_input}\n",
    "\n",
    "            {format_instructions}\n",
    "            \"\"\",\n",
    "            human_template=\"Customer Query: {customer_input}\",\n",
    "        )\n",
    "\n",
    "        self.prompt = generate_prompt_templates(prompt_template)\n",
    "        self.output_parser = PydanticOutputParser(pydantic_object=OrderInformation)\n",
    "        self.format_instructions = self.output_parser.get_format_instructions()\n",
    "\n",
    "        self.chain = self.prompt | self.llm | self.output_parser\n",
    "\n",
    "    def query_as_list(self, query):\n",
    "        res = self.db.run(query)\n",
    "        res = [el for sub in ast.literal_eval(res) for el in sub if el]\n",
    "        res = [re.sub(r\"\\b\\d+\\b\", \"\", string).strip() for string in res]\n",
    "        return list(set(res))\n",
    "\n",
    "    def invoke(self, inputs):\n",
    "        return self.chain.invoke(\n",
    "            {\n",
    "                \"customer_input\": inputs[\"customer_input\"],\n",
    "                \"products_list\": self.products_list,\n",
    "                \"format_instructions\": self.format_instructions,\n",
    "            },\n",
    "        )"
   ]
  },
  {
   "cell_type": "code",
   "execution_count": 55,
   "metadata": {},
   "outputs": [],
   "source": [
    "creator_order_chain = CreateOrderReasoningChain(llm)"
   ]
  },
  {
   "cell_type": "code",
   "execution_count": 56,
   "metadata": {},
   "outputs": [
    {
     "data": {
      "text/plain": [
       "OrderInformation(product_name='TechPro Ultrabook', quantity=2)"
      ]
     },
     "execution_count": 56,
     "metadata": {},
     "output_type": "execute_result"
    }
   ],
   "source": [
    "creator_order_chain.invoke({\"customer_input\": \"I want to order 2 TechPro Ultrabooks.\"})"
   ]
  },
  {
   "cell_type": "markdown",
   "metadata": {},
   "source": [
    "- **GetOrderReasoningChain**: Similarly, this Chain will focus on extracting key information needed to retrieve specific order details, like order ID or customer name. The GetOrderChain will process user requests to accurately identify and format the input data, enabling the `GetOrderTool` to efficiently fetch and return the requested order information from the database."
   ]
  },
  {
   "cell_type": "code",
   "execution_count": 59,
   "metadata": {},
   "outputs": [],
   "source": [
    "class OrderId(BaseModel):\n",
    "    order_id: int\n",
    "\n",
    "\n",
    "class GetOrderReasoningChain(Runnable):\n",
    "    def __init__(self, llm):\n",
    "        super().__init__()\n",
    "\n",
    "        self.llm = llm\n",
    "        prompt_template = PromptTemplate(\n",
    "            system_template=\"\"\" \n",
    "            You are a part of the e-commerce team. \n",
    "            Your task is to identify the order_id from the user input.\n",
    "\n",
    "            Here is the user input:\n",
    "            {customer_input}\n",
    "\n",
    "            {format_instructions}\n",
    "            \"\"\",\n",
    "            human_template=\"Customer Query: {customer_input}\",\n",
    "        )\n",
    "\n",
    "        self.prompt = generate_prompt_templates(prompt_template)\n",
    "        self.output_parser = PydanticOutputParser(pydantic_object=OrderId)\n",
    "        self.format_instructions = self.output_parser.get_format_instructions()\n",
    "\n",
    "        self.chain = self.prompt | self.llm | self.output_parser\n",
    "\n",
    "    def invoke(self, inputs):\n",
    "        return self.chain.invoke(\n",
    "            {\n",
    "                \"customer_input\": inputs[\"customer_input\"],\n",
    "                \"format_instructions\": self.format_instructions,\n",
    "            },\n",
    "        )\n"
   ]
  },
  {
   "cell_type": "code",
   "execution_count": 60,
   "metadata": {},
   "outputs": [],
   "source": [
    "get_order_chain = GetOrderReasoningChain(llm)"
   ]
  },
  {
   "cell_type": "code",
   "execution_count": 62,
   "metadata": {},
   "outputs": [
    {
     "data": {
      "text/plain": [
       "OrderId(order_id=1)"
      ]
     },
     "execution_count": 62,
     "metadata": {},
     "output_type": "execute_result"
    }
   ],
   "source": [
    "get_order_chain.invoke({\"customer_input\": \"I want to know the status of order id 1.\"})"
   ]
  },
  {
   "cell_type": "markdown",
   "metadata": {},
   "source": [
    "Now let's finally create our custom tools.\n",
    "First we will create the `CreateOrderTool` and then the `GetOrderTool`."
   ]
  },
  {
   "cell_type": "code",
   "execution_count": null,
   "metadata": {},
   "outputs": [],
   "source": [
    "from typing import Type, Any\n",
    "from pydantic import BaseModel\n",
    "from langchain.tools import BaseTool\n",
    "import sqlite3 \n",
    "from langchain_openai import ChatOpenAI\n",
    "\n",
    "\n",
    "class CreateOrderInput(BaseModel):\n",
    "    customer_id: int\n",
    "    customer_input: str\n",
    "\n",
    "\n",
    "class CreateOrderTool(BaseTool):\n",
    "    name: str = \"CreateOrderTool\" # This should only contain letters\n",
    "    description: str = \"Create a new order in the e-commerce database\"\n",
    "    args_schema: Type[BaseModel] = CreateOrderInput\n",
    "    return_direct: bool = True\n",
    "\n",
    "    def _run(\n",
    "        self,\n",
    "        customer_id: int,\n",
    "        customer_input: str,\n",
    "    ) -> str:\n",
    "        llm = ChatOpenAI(model=\"gpt-4o-mini\")\n",
    "\n",
    "        order_info = CreateOrderReasoningChain(llm).invoke({\"customer_input\": customer_input})\n",
    "\n",
    "        connection = sqlite3.connect('ecommerce.db')\n",
    "        cursor = connection.cursor()\n",
    "\n",
    "        try:\n",
    "            cursor.execute(\"SELECT product_id, price FROM products WHERE name = ?\", (order_info.product_name,))\n",
    "            product_id, price = cursor.fetchone()\n",
    "\n",
    "            total_amount = price * order_info.quantity\n",
    "            order_date = '2023-05-01'\n",
    "            quantity = order_info.quantity\n",
    "\n",
    "            \n",
    "            cursor.execute(\n",
    "                \"INSERT INTO orders (customer_id, product_id, quantity, total_amount, order_date) VALUES (?, ?, ?, ?, ?)\",\n",
    "                (customer_id, product_id, quantity, total_amount, order_date),\n",
    "            )\n",
    "            connection.commit()\n",
    "\n",
    "        except sqlite3.OperationalError as e:\n",
    "            print(f\"Error: {e}\")\n",
    "        finally:\n",
    "            cursor.close()\n",
    "            connection.close()\n",
    "\n",
    "        \n",
    "        return f\"Order created with ID: {cursor.lastrowid}\""
   ]
  },
  {
   "cell_type": "code",
   "execution_count": 64,
   "metadata": {},
   "outputs": [],
   "source": [
    "create_order_tool = CreateOrderTool()"
   ]
  },
  {
   "cell_type": "code",
   "execution_count": 66,
   "metadata": {},
   "outputs": [
    {
     "data": {
      "text/plain": [
       "'Order created with ID: 3'"
      ]
     },
     "execution_count": 66,
     "metadata": {},
     "output_type": "execute_result"
    }
   ],
   "source": [
    "new_order_dict = {\n",
    "    \"customer_id\": 1,\n",
    "    \"customer_input\": \"I would like to order 2 TechPro Ultrabooks.\"\n",
    "}\n",
    "create_order_tool.invoke(new_order_dict)"
   ]
  },
  {
   "cell_type": "code",
   "execution_count": 70,
   "metadata": {},
   "outputs": [],
   "source": [
    "from typing import Type, Any\n",
    "from pydantic import BaseModel\n",
    "from langchain.tools import BaseTool\n",
    "import sqlite3\n",
    "\n",
    "\n",
    "class GetOrderInput(BaseModel):\n",
    "    customer_id: int\n",
    "    customer_input: str\n",
    "\n",
    "\n",
    "class GetOrderTool(BaseTool):\n",
    "    name: str = \"GetOrderTool\"\n",
    "    description: str = \"Retrieve details of an existing order based on the order ID\"\n",
    "    args_schema: Type[BaseModel] = GetOrderInput\n",
    "    return_direct: bool = True\n",
    "\n",
    "    def _run(\n",
    "        self,\n",
    "        customer_id: int,\n",
    "        customer_input: str,\n",
    "    ) -> str:\n",
    "        llm = ChatOpenAI(model=\"gpt-4o-mini\")\n",
    "\n",
    "        order_info = GetOrderReasoningChain(llm).invoke({\"customer_input\": customer_input})\n",
    "        order_id = order_info.order_id\n",
    "\n",
    "        connection = sqlite3.connect('ecommerce.db')\n",
    "        cursor = connection.cursor()\n",
    "\n",
    "        try:\n",
    "            # Get the column names of the orders table\n",
    "            cursor.execute(\"PRAGMA table_info(orders)\")\n",
    "            columns = cursor.fetchall()\n",
    "\n",
    "            cursor.execute(\"SELECT * FROM orders WHERE order_id = ?\", (order_id,))\n",
    "            order_ = cursor.fetchone()\n",
    "\n",
    "            # Map the order to the column names\n",
    "            order = dict(zip([column[1] for column in columns], order_))\n",
    "\n",
    "        except sqlite3.OperationalError as e:\n",
    "            print(f\"Error: {e}\")\n",
    "        finally:\n",
    "            cursor.close()\n",
    "            connection.close()\n",
    "\n",
    "        if customer_id != order[\"customer_id\"]:\n",
    "            return \"You are not authorized to view this order.\"\n",
    "        else:\n",
    "            return order\n"
   ]
  },
  {
   "cell_type": "code",
   "execution_count": 71,
   "metadata": {},
   "outputs": [],
   "source": [
    "check_order_tool = GetOrderTool()"
   ]
  },
  {
   "cell_type": "code",
   "execution_count": 72,
   "metadata": {},
   "outputs": [
    {
     "data": {
      "text/plain": [
       "{'order_id': 3,\n",
       " 'customer_id': 1,\n",
       " 'product_id': 1,\n",
       " 'quantity': 2,\n",
       " 'total_amount': 1599.98,\n",
       " 'order_date': '2023-05-01'}"
      ]
     },
     "execution_count": 72,
     "metadata": {},
     "output_type": "execute_result"
    }
   ],
   "source": [
    "check_order_tool.invoke({\"customer_id\": 1, \"customer_input\": \"I want to know the status of order id 3.\"})"
   ]
  },
  {
   "cell_type": "markdown",
   "metadata": {},
   "source": [
    "Now let's plug these custom tools into our Agent.\n"
   ]
  },
  {
   "cell_type": "code",
   "execution_count": 124,
   "metadata": {},
   "outputs": [],
   "source": [
    "system_message = \"\"\"\n",
    "You are now connected to the e-commerce database. You can use the following tools to interact with the database:\n",
    "\n",
    "1. Create Order: Create a new order in the database\n",
    "2. Get Order: Retrieve details of an existing order based on the order ID\n",
    "\n",
    "The user_id is \n",
    "{customer_id}\n",
    "\n",
    "If none of the above tools are needed, you can answer the customer in a polite manner.\n",
    "\"\"\"\n",
    "\n",
    "human_template = \"\"\"\n",
    "Customer Query: {customer_input}\n",
    "\"\"\"\n",
    "\n",
    "prompt = ChatPromptTemplate.from_messages(\n",
    "    [\n",
    "        SystemMessagePromptTemplate.from_template(system_message),\n",
    "        HumanMessagePromptTemplate.from_template(human_template),\n",
    "        MessagesPlaceholder(variable_name=\"agent_scratchpad\"),\n",
    "    ]\n",
    ")"
   ]
  },
  {
   "cell_type": "code",
   "execution_count": 125,
   "metadata": {},
   "outputs": [],
   "source": [
    "from langchain.agents import AgentExecutor\n",
    "from langchain.agents import create_tool_calling_agent\n",
    "\n",
    "llm = ChatOpenAI(model=\"gpt-4o-mini\")\n",
    "tools = [create_order_tool, check_order_tool]\n",
    "\n",
    "agent = create_tool_calling_agent(llm, tools, prompt)\n",
    "agent_executor = AgentExecutor(agent=agent, tools=tools)"
   ]
  },
  {
   "cell_type": "code",
   "execution_count": 126,
   "metadata": {},
   "outputs": [
    {
     "data": {
      "text/plain": [
       "{'customer_id': 1,\n",
       " 'customer_input': 'I would like to order a TechPro Ultrabook.',\n",
       " 'output': 'Order created with ID: 8'}"
      ]
     },
     "execution_count": 126,
     "metadata": {},
     "output_type": "execute_result"
    }
   ],
   "source": [
    "agent_executor.invoke({\"customer_id\": 1, \"customer_input\": \"I would like to order a TechPro Ultrabook.\"})"
   ]
  },
  {
   "cell_type": "code",
   "execution_count": 127,
   "metadata": {},
   "outputs": [
    {
     "data": {
      "text/plain": [
       "{'customer_id': 1,\n",
       " 'customer_input': 'I would like to know the status of order 4.',\n",
       " 'output': {'order_id': 4,\n",
       "  'customer_id': 1,\n",
       "  'product_id': 1,\n",
       "  'quantity': 1,\n",
       "  'total_amount': 799.99,\n",
       "  'order_date': '2023-05-01'}}"
      ]
     },
     "execution_count": 127,
     "metadata": {},
     "output_type": "execute_result"
    }
   ],
   "source": [
    "agent_executor.invoke({\"customer_id\": 1, \"customer_input\": \"I would like to know the status of order 4.\"})"
   ]
  },
  {
   "cell_type": "markdown",
   "metadata": {},
   "source": [
    "Adding Memory to the Agent to store the order details."
   ]
  },
  {
   "cell_type": "code",
   "execution_count": 128,
   "metadata": {},
   "outputs": [],
   "source": [
    "from typing import List\n",
    "from pydantic import BaseModel, Field\n",
    "from langchain_core.chat_history import BaseChatMessageHistory\n",
    "from langchain_core.messages import BaseMessage\n",
    "\n",
    "\n",
    "class InMemoryHistory(BaseChatMessageHistory, BaseModel):\n",
    "    \"\"\"In-memory implementation of chat message history.\n",
    "\n",
    "    Stores a list of messages within the session.\n",
    "    \"\"\"\n",
    "\n",
    "    messages: List[BaseMessage] = Field(default_factory=list)\n",
    "\n",
    "    def add_messages(self, messages: List[BaseMessage]) -> None:\n",
    "        \"\"\"Add a list of messages to the in-memory store.\"\"\"\n",
    "        self.messages.extend(messages)\n",
    "\n",
    "    def clear(self) -> None:\n",
    "        \"\"\"Clear all messages from the in-memory store.\"\"\"\n",
    "        self.messages = []"
   ]
  },
  {
   "cell_type": "code",
   "execution_count": 129,
   "metadata": {},
   "outputs": [],
   "source": [
    "store = {}"
   ]
  },
  {
   "cell_type": "code",
   "execution_count": 130,
   "metadata": {},
   "outputs": [],
   "source": [
    "def get_session_history(\n",
    "    user_id: str, conversation_id: str\n",
    ") -> BaseChatMessageHistory:\n",
    "    \"\"\"Retrieve or create session history for a specific user, conversation.\n",
    "\n",
    "    Args:\n",
    "        user_id: Identifier for the user.\n",
    "        conversation_id: Identifier for the conversation.\n",
    "\n",
    "    Returns:\n",
    "        An instance of BaseChatMessageHistory for managing the chat history.\n",
    "    \"\"\"\n",
    "    if (user_id, conversation_id) not in store:\n",
    "        # Initialize new in-memory history if not already stored\n",
    "        store[(user_id, conversation_id)] = InMemoryHistory()\n",
    "\n",
    "    return store[(user_id, conversation_id)]"
   ]
  },
  {
   "cell_type": "code",
   "execution_count": 131,
   "metadata": {},
   "outputs": [],
   "source": [
    "from langchain_core.runnables import ConfigurableFieldSpec\n",
    "from langchain_core.runnables.history import RunnableWithMessageHistory\n",
    "\n",
    "memory_config = {\n",
    "    \"configurable\": {\n",
    "        \"user_id\": 1,\n",
    "        \"conversation_id\": 1,\n",
    "    }\n",
    "}\n",
    "\n",
    "history_factory_config = [\n",
    "    ConfigurableFieldSpec(\n",
    "        id=\"user_id\",\n",
    "        annotation=str,\n",
    "        name=\"User ID\",\n",
    "        description=\"Unique identifier for the user.\",\n",
    "        default=\"\",\n",
    "        is_shared=True,\n",
    "    ),\n",
    "    ConfigurableFieldSpec(\n",
    "        id=\"conversation_id\",\n",
    "        annotation=str,\n",
    "        name=\"Conversation ID\",\n",
    "        description=\"Unique identifier for the conversation.\",\n",
    "        default=\"\",\n",
    "        is_shared=True,\n",
    "    ),\n",
    "]"
   ]
  },
  {
   "cell_type": "code",
   "execution_count": 132,
   "metadata": {},
   "outputs": [],
   "source": [
    "system_message = \"\"\"\n",
    "You are now connected to the e-commerce database. You can use the following tools to interact with the database:\n",
    "\n",
    "1. Create Order: Create a new order in the database\n",
    "2. Get Order: Retrieve details of an existing order based on the order ID\n",
    "\n",
    "The user_id is \n",
    "{customer_id}\n",
    "\n",
    "If none of the above tools are needed, you can answer the customer in a polite manner.\n",
    "\"\"\"\n",
    "\n",
    "human_template = \"\"\"\n",
    "Customer Query: {customer_input}\n",
    "\"\"\"\n",
    "\n",
    "prompt = ChatPromptTemplate.from_messages(\n",
    "    [\n",
    "        SystemMessagePromptTemplate.from_template(system_message),\n",
    "        MessagesPlaceholder(variable_name=\"chat_history\"),\n",
    "        HumanMessagePromptTemplate.from_template(human_template),\n",
    "        MessagesPlaceholder(variable_name=\"agent_scratchpad\"),\n",
    "    ]\n",
    ")"
   ]
  },
  {
   "cell_type": "code",
   "execution_count": 133,
   "metadata": {},
   "outputs": [],
   "source": [
    "from langchain.agents import AgentExecutor\n",
    "from langchain.agents import create_tool_calling_agent\n",
    "\n",
    "llm = ChatOpenAI(model=\"gpt-4o-mini\")\n",
    "tools = [create_order_tool, check_order_tool]\n",
    "\n",
    "agent = create_tool_calling_agent(llm, tools, prompt)\n",
    "agent_executor = AgentExecutor(agent=agent, tools=tools)"
   ]
  },
  {
   "cell_type": "code",
   "execution_count": 134,
   "metadata": {},
   "outputs": [],
   "source": [
    "agent_with_chat_history = RunnableWithMessageHistory(\n",
    "    agent_executor,\n",
    "    get_session_history,\n",
    "    input_messages_key=\"customer_input\",\n",
    "    history_messages_key=\"chat_history\",\n",
    "    history_factory_config=history_factory_config,\n",
    ")"
   ]
  },
  {
   "cell_type": "code",
   "execution_count": 135,
   "metadata": {},
   "outputs": [],
   "source": [
    "user_input = \"Hello my name is Tiago.\""
   ]
  },
  {
   "cell_type": "code",
   "execution_count": 136,
   "metadata": {},
   "outputs": [
    {
     "data": {
      "text/plain": [
       "{'customer_id': 1,\n",
       " 'customer_input': 'Hello my name is Tiago.',\n",
       " 'conversation_id': 1,\n",
       " 'chat_history': [],\n",
       " 'output': 'Hello Tiago! How can I assist you today?'}"
      ]
     },
     "execution_count": 136,
     "metadata": {},
     "output_type": "execute_result"
    }
   ],
   "source": [
    "agent_with_chat_history.invoke(\n",
    "    {\n",
    "        \"customer_id\": 1,\n",
    "        \"customer_input\": user_input,\n",
    "        \"conversation_id\": 1,\n",
    "    },\n",
    "    config=memory_config,\n",
    ")"
   ]
  },
  {
   "cell_type": "code",
   "execution_count": 137,
   "metadata": {},
   "outputs": [],
   "source": [
    "user_input = \"What is my name?\""
   ]
  },
  {
   "cell_type": "code",
   "execution_count": 138,
   "metadata": {},
   "outputs": [
    {
     "data": {
      "text/plain": [
       "{'customer_id': 1,\n",
       " 'customer_input': 'What is my name?',\n",
       " 'conversation_id': 1,\n",
       " 'chat_history': [HumanMessage(content='Hello my name is Tiago.', additional_kwargs={}, response_metadata={}),\n",
       "  AIMessage(content='Hello Tiago! How can I assist you today?', additional_kwargs={}, response_metadata={})],\n",
       " 'output': 'Your name is Tiago. How can I help you further?'}"
      ]
     },
     "execution_count": 138,
     "metadata": {},
     "output_type": "execute_result"
    }
   ],
   "source": [
    "agent_with_chat_history.invoke(\n",
    "    {\n",
    "        \"customer_id\": 1,\n",
    "        \"customer_input\": user_input,\n",
    "        \"conversation_id\": 1,\n",
    "    },\n",
    "    config=memory_config,\n",
    ")"
   ]
  },
  {
   "cell_type": "code",
   "execution_count": null,
   "metadata": {},
   "outputs": [],
   "source": []
  }
 ],
 "metadata": {
  "kernelspec": {
   "display_name": ".venv",
   "language": "python",
   "name": "python3"
  },
  "language_info": {
   "codemirror_mode": {
    "name": "ipython",
    "version": 3
   },
   "file_extension": ".py",
   "mimetype": "text/x-python",
   "name": "python",
   "nbconvert_exporter": "python",
   "pygments_lexer": "ipython3",
   "version": "3.11.8"
  }
 },
 "nbformat": 4,
 "nbformat_minor": 2
}
