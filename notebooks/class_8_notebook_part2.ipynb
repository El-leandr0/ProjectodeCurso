{
 "cells": [
  {
   "cell_type": "markdown",
   "metadata": {},
   "source": [
    "# **Class 8: Part 2 - Synthetic Data Generation with LangChaing**"
   ]
  },
  {
   "cell_type": "code",
   "execution_count": 12,
   "metadata": {},
   "outputs": [],
   "source": [
    "from IPython.display import Image, display\n",
    "project_path = '/Users/tmsantos/Documents/CapstoneProject/'"
   ]
  },
  {
   "cell_type": "markdown",
   "metadata": {},
   "source": [
    "## Pydantic Overview:\n",
    "\n",
    "Pydantic allows you to create classes that can automatically validate the data you pass to them.\n",
    "This is helpful in various scenarios, such as API development, data parsing, and configuration management.\n",
    "Example:"
   ]
  },
  {
   "cell_type": "code",
   "execution_count": 1,
   "metadata": {},
   "outputs": [
    {
     "name": "stdout",
     "output_type": "stream",
     "text": [
      "id=1 name='John Doe' email='john.doe@example.com'\n"
     ]
    }
   ],
   "source": [
    "from pydantic import BaseModel\n",
    "\n",
    "# Define a data model using Pydantic\n",
    "class User(BaseModel):\n",
    "    id: int\n",
    "    name: str\n",
    "    email: str\n",
    "\n",
    "# Create an instance of the User model\n",
    "user = User(id=1, name=\"John Doe\", email=\"john.doe@example.com\")\n",
    "\n",
    "print(user)"
   ]
  },
  {
   "cell_type": "markdown",
   "metadata": {},
   "source": [
    "### Data Validation"
   ]
  },
  {
   "cell_type": "code",
   "execution_count": 2,
   "metadata": {},
   "outputs": [],
   "source": [
    "from pydantic import BaseModel, ValidationError\n",
    "\n",
    "class User(BaseModel):\n",
    "    id: int\n",
    "    name: str\n",
    "    email: str\n",
    "\n",
    "try:\n",
    "    user = User(id='1', name=\"Jane Doe\", email=\"jane.doe@example.com\")  # Invalid id type\n",
    "except ValidationError as e:\n",
    "    print(e.json())  # Output error details in JSON format"
   ]
  },
  {
   "cell_type": "markdown",
   "metadata": {},
   "source": [
    "### Default Values"
   ]
  },
  {
   "cell_type": "code",
   "execution_count": 3,
   "metadata": {},
   "outputs": [
    {
     "name": "stdout",
     "output_type": "stream",
     "text": [
      "no-reply@example.com\n"
     ]
    }
   ],
   "source": [
    "class User(BaseModel):\n",
    "    id: int\n",
    "    name: str\n",
    "    email: str = \"no-reply@example.com\"  # Default email\n",
    "\n",
    "# Create a user without specifying email\n",
    "user = User(id=2, name=\"Alice Smith\")\n",
    "print(user.email)  # Output: no-reply@example.com"
   ]
  },
  {
   "cell_type": "markdown",
   "metadata": {},
   "source": [
    "### Nested Models"
   ]
  },
  {
   "cell_type": "code",
   "execution_count": 4,
   "metadata": {},
   "outputs": [],
   "source": [
    "from typing import List\n",
    "\n",
    "class Address(BaseModel):\n",
    "    street: str\n",
    "    city: str\n",
    "    country: str\n",
    "\n",
    "class User(BaseModel):\n",
    "    id: int\n",
    "    name: str\n",
    "    addresses: List[Address]\n",
    "\n",
    "# Create a user with nested addresses\n",
    "user = User(\n",
    "    id=1,\n",
    "    name=\"Bob\",\n",
    "    addresses=[\n",
    "        Address(street=\"123 Main St\", city=\"Anytown\", country=\"USA\"),\n",
    "        Address(street=\"456 Side St\", city=\"Othertown\", country=\"USA\"),\n",
    "    ]\n",
    ")"
   ]
  },
  {
   "cell_type": "markdown",
   "metadata": {},
   "source": [
    "## OpenAI Setup:"
   ]
  },
  {
   "cell_type": "code",
   "execution_count": 3,
   "metadata": {},
   "outputs": [],
   "source": [
    "from dotenv import load_dotenv\n",
    "import os\n",
    "\n",
    "# Load the OpenAI API key from the .env file\n",
    "load_dotenv()\n",
    "api_key = os.getenv(\"OPENAI_API_KEY\")\n",
    "if api_key is None:\n",
    "    raise ValueError(\"The OPENAI_API_KEY environment variable is not set.\")"
   ]
  },
  {
   "cell_type": "code",
   "execution_count": 4,
   "metadata": {},
   "outputs": [],
   "source": [
    "if \"OPENAI_API_KEY\" not in os.environ:\n",
    "    os.environ[\"OPENAI_API_KEY\"] = api_key"
   ]
  },
  {
   "cell_type": "markdown",
   "metadata": {},
   "source": [
    "## Langchain Setup:\n",
    "LangChain is a framework for developing applications powered by large language models (LLMs).\n",
    "\n",
    "LangChain is your ultimate ally throughout the LLM application journey:\n",
    "\n",
    "- Develop your applications swiftly using LangChain’s open-source building blocks and convenient third-party integrations.\n",
    "- Ensure seamless production with LangSmith, providing comprehensive inspection, monitoring, and evaluation capabilities for your chains.\n",
    "- Effortlessly deploy your creations as APIs with LangServe, turning any chain into a powerful tool for shaping the future of language-driven applications.\n",
    "\n",
    "Some of the use cases for LangChain are:\n",
    "\n",
    "- Question answering with RAG\n",
    "- Chatbots\n",
    "- Query analysis\n",
    "- Summarization\n",
    "- Tagging\n",
    "- **Synthetic data generation**"
   ]
  },
  {
   "cell_type": "code",
   "execution_count": null,
   "metadata": {},
   "outputs": [],
   "source": [
    "%pip install --upgrade --quiet  langchain langchain_experimental langchain-openai"
   ]
  },
  {
   "cell_type": "code",
   "execution_count": 27,
   "metadata": {},
   "outputs": [],
   "source": [
    "from langchain.prompts import FewShotPromptTemplate, PromptTemplate\n",
    "from langchain_experimental.tabular_synthetic_data.openai import (\n",
    "    OPENAI_TEMPLATE,\n",
    "    create_openai_data_generator,\n",
    ")\n",
    "from langchain_experimental.tabular_synthetic_data.prompts import (\n",
    "    SYNTHETIC_FEW_SHOT_PREFIX,\n",
    "    SYNTHETIC_FEW_SHOT_SUFFIX,\n",
    ")\n",
    "from langchain_openai import ChatOpenAI"
   ]
  },
  {
   "cell_type": "markdown",
   "metadata": {},
   "source": [
    "1. Define Your Data Model\n",
    "\n",
    "Every dataset has a structure or a \"schema\". The MedicalBilling class below serves as our schema for the synthetic data. \n",
    "\n",
    "By defining this, we're informing our synthetic data generator about the shape and nature of data we expect."
   ]
  },
  {
   "cell_type": "code",
   "execution_count": 12,
   "metadata": {},
   "outputs": [],
   "source": [
    "class MedicalBilling(BaseModel):\n",
    "    patient_id: int\n",
    "    patient_name: str\n",
    "    diagnosis_code: str\n",
    "    procedure_code: str\n",
    "    total_charge: float\n",
    "    insurance_claim_amount: float"
   ]
  },
  {
   "cell_type": "markdown",
   "metadata": {},
   "source": [
    "2. Sample Data\n",
    "\n",
    "To guide the synthetic data generator, it's useful to provide it with a few real-world-like examples. These examples serve as a \"seed\" - they're representative of the kind of data you want, and the generator will use them to create data that looks similar to your expectations.\n",
    "\n",
    "Here are some fictional medical billing records:"
   ]
  },
  {
   "cell_type": "code",
   "execution_count": 13,
   "metadata": {},
   "outputs": [],
   "source": [
    "examples = [\n",
    "    {\n",
    "        \"example\": \"\"\"Patient ID: 123456, Patient Name: John Doe, Diagnosis Code: \n",
    "        J20.9, Procedure Code: 99203, Total Charge: $500, Insurance Claim Amount: $350\"\"\"\n",
    "    },\n",
    "    {\n",
    "        \"example\": \"\"\"Patient ID: 789012, Patient Name: Johnson Smith, Diagnosis \n",
    "        Code: M54.5, Procedure Code: 99213, Total Charge: $150, Insurance Claim Amount: $120\"\"\"\n",
    "    },\n",
    "    {\n",
    "        \"example\": \"\"\"Patient ID: 345678, Patient Name: Emily Stone, Diagnosis Code: \n",
    "        E11.9, Procedure Code: 99214, Total Charge: $300, Insurance Claim Amount: $250\"\"\"\n",
    "    },\n",
    "]"
   ]
  },
  {
   "cell_type": "markdown",
   "metadata": {},
   "source": [
    "3. Craft a Prompt Template\n",
    "\n",
    "The generator doesn't magically know how to create our data; we need to guide it. We do this by creating a prompt template. \n",
    "\n",
    "This template helps instruct the underlying language model on how to produce synthetic data in the desired format."
   ]
  },
  {
   "cell_type": "code",
   "execution_count": 14,
   "metadata": {},
   "outputs": [],
   "source": [
    "OPENAI_TEMPLATE = PromptTemplate(input_variables=[\"example\"], template=\"{example}\")\n",
    "\n",
    "prompt_template = FewShotPromptTemplate(\n",
    "    prefix=SYNTHETIC_FEW_SHOT_PREFIX,\n",
    "    examples=examples,\n",
    "    suffix=SYNTHETIC_FEW_SHOT_SUFFIX,\n",
    "    input_variables=[\"subject\", \"extra\"],\n",
    "    example_prompt=OPENAI_TEMPLATE,\n",
    ")"
   ]
  },
  {
   "cell_type": "markdown",
   "metadata": {},
   "source": [
    "The FewShotPromptTemplate includes:\n",
    "\n",
    "    prefix and suffix: These likely contain guiding context or instructions.\n",
    "    examples: The sample data we defined earlier.\n",
    "    input_variables: These variables (\"subject\", \"extra\") are placeholders you can dynamically fill later. For instance, \"subject\" might be filled with \"medical_billing\" to guide the model further.\n",
    "    example_prompt: This prompt template is the format we want each example row to take in our prompt.\n"
   ]
  },
  {
   "cell_type": "markdown",
   "metadata": {},
   "source": [
    "4. Creating the Data Generator\n",
    "\n",
    "With the schema and the prompt ready, the next step is to create the data generator. \n",
    "\n",
    "This object knows how to communicate with the underlying language model to generate synthetic data."
   ]
  },
  {
   "cell_type": "markdown",
   "metadata": {},
   "source": [
    "\n",
    "Check models pricing before choosing one: https://openai.com/api/pricing/\n",
    "\n",
    "Take into account each group has a 5€ credit to use the API."
   ]
  },
  {
   "cell_type": "code",
   "execution_count": 28,
   "metadata": {},
   "outputs": [],
   "source": [
    "llm = ChatOpenAI(api_key=api_key, model=\"gpt-3.5-turbo\", temperature=1)"
   ]
  },
  {
   "cell_type": "code",
   "execution_count": 29,
   "metadata": {},
   "outputs": [],
   "source": [
    "synthetic_data_generator = create_openai_data_generator(\n",
    "    output_schema=MedicalBilling,\n",
    "    llm=llm,\n",
    "    prompt=prompt_template,\n",
    ")"
   ]
  },
  {
   "cell_type": "markdown",
   "metadata": {},
   "source": [
    "5. Generate Synthetic Data\n",
    "\n",
    "Finally, let's generate our synthetic data!"
   ]
  },
  {
   "cell_type": "code",
   "execution_count": 31,
   "metadata": {},
   "outputs": [],
   "source": [
    "synthetic_results = synthetic_data_generator.generate(\n",
    "    subject=\"medical_billing\",\n",
    "    extra=\"the name must be chosen at random. Make it something you wouldn't normally choose.\",\n",
    "    runs=5,\n",
    ")"
   ]
  },
  {
   "cell_type": "markdown",
   "metadata": {},
   "source": [
    "This costed less than 0.002€."
   ]
  },
  {
   "cell_type": "code",
   "execution_count": 37,
   "metadata": {},
   "outputs": [
    {
     "data": {
      "text/plain": [
       "[MedicalBilling(patient_id=246810, patient_name=\"Mabel O'Donnell\", diagnosis_code='G47.9', procedure_code='99204', total_charge=300.0, insurance_claim_amount=240.0),\n",
       " MedicalBilling(patient_id=123456, patient_name='Bartholomew Snodgrass', diagnosis_code='N18.9', procedure_code='99214', total_charge=400.0, insurance_claim_amount=320.0),\n",
       " MedicalBilling(patient_id=777777, patient_name='Zelda Blunderbuss', diagnosis_code='I25.10', procedure_code='99213', total_charge=350.0, insurance_claim_amount=280.0),\n",
       " MedicalBilling(patient_id=135792, patient_name='Barnabas Pumpernickel', diagnosis_code='K51.9', procedure_code='99203', total_charge=250.0, insurance_claim_amount=200.0),\n",
       " MedicalBilling(patient_id=999999, patient_name='Cornelius McFiddlesticks', diagnosis_code='Z00.0', procedure_code='99205', total_charge=500.0, insurance_claim_amount=400.0),\n",
       " MedicalBilling(patient_id=123456, patient_name='Harriet Bumblefritz', diagnosis_code='G12.21', procedure_code='99214', total_charge=400.0, insurance_claim_amount=320.0),\n",
       " MedicalBilling(patient_id=246801, patient_name='Rutherford Q. Snodgrass', diagnosis_code='T78.4', procedure_code='99213', total_charge=350.0, insurance_claim_amount=280.0)]"
      ]
     },
     "execution_count": 37,
     "metadata": {},
     "output_type": "execute_result"
    }
   ],
   "source": [
    "synthetic_results"
   ]
  },
  {
   "cell_type": "code",
   "execution_count": 38,
   "metadata": {},
   "outputs": [
    {
     "data": {
      "text/plain": [
       "__main__.MedicalBilling"
      ]
     },
     "execution_count": 38,
     "metadata": {},
     "output_type": "execute_result"
    }
   ],
   "source": [
    "type(synthetic_results[0])"
   ]
  },
  {
   "cell_type": "markdown",
   "metadata": {},
   "source": [
    "# **Class 8: Part 3 - Synthetic Data Generation using AttrPrompt**"
   ]
  },
  {
   "cell_type": "markdown",
   "metadata": {},
   "source": [
    "\"We delve into the realm of training data generation using complex, attributed prompts, which possess\n",
    "the potential to produce a wide range of diverse and attributed generated data. Specifically, we focus\n",
    "on datasets characterized by diverse domains and high cardinality and class-imbalance, and our results\n",
    "demonstrate the superior performance of attributed prompts compared to simple class-conditional\n",
    "prompts. Furthermore, we present a comprehensive empirical study on training data generation that\n",
    "covers essential aspects such as bias, diversity, and efficiency.\"\n",
    "\n",
    "https://github.com/yueyu1030/AttrPrompt/tree/main\n",
    "\n",
    "https://arxiv.org/abs/2306.15895"
   ]
  },
  {
   "cell_type": "markdown",
   "metadata": {},
   "source": [
    "**We will generate synthetic dats similar to New York Times news .**"
   ]
  },
  {
   "cell_type": "code",
   "execution_count": 1,
   "metadata": {},
   "outputs": [],
   "source": [
    "import json\n",
    "import re\n",
    "from openai import OpenAI\n",
    "\n",
    "# Create an OpenAI API client\n",
    "client = OpenAI()\n",
    "\n",
    "# Define the parameters for the OpenAI API\n",
    "model=\"gpt-3.5-turbo\"\n",
    "temperature=1.0\n",
    "max_tokens=400\n",
    "top_p=1.0"
   ]
  },
  {
   "cell_type": "code",
   "execution_count": 2,
   "metadata": {},
   "outputs": [],
   "source": [
    "def generate_multiple_responses(messages):\n",
    "    responses = []\n",
    "    for message in messages:\n",
    "        response = client.chat.completions.create(\n",
    "            model=model,\n",
    "            messages=message,\n",
    "            temperature=temperature,\n",
    "            max_tokens=max_tokens,\n",
    "            top_p=top_p,\n",
    "        )\n",
    "        responses.append(response.choices[0].message.content)\n",
    "    return responses"
   ]
  },
  {
   "cell_type": "code",
   "execution_count": 75,
   "metadata": {},
   "outputs": [],
   "source": [
    "# Define news topics for the prompt\n",
    "topics = [\n",
    "    \"federal_budget\",\n",
    "    \"surveillance\",\n",
    "    \"the_affordable_care_act\",\n",
    "    \"immigration\",\n",
    "    \"law_enforcement\",\n",
    "    \"gay_rights\",\n",
    "    \"gun_control\",\n",
    "    \"military\",\n",
    "    \"abortion\",\n",
    "    \"dance\",\n",
    "    \"tv_show\",\n",
    "    \"music\",\n",
    "    \"movies\",\n",
    "    \"stocks_and_bonds\",\n",
    "    \"energy_companies\",\n",
    "    \"economy\",\n",
    "    \"international_business\",\n",
    "    \"astronomy\",\n",
    "    \"environment\",\n",
    "    \"hockey\",\n",
    "    \"basketball\",\n",
    "    \"tennis\",\n",
    "    \"golf\",\n",
    "    \"american_football\",\n",
    "    \"baseball\",\n",
    "    \"soccer\"\n",
    "]"
   ]
  },
  {
   "cell_type": "markdown",
   "metadata": {},
   "source": [
    "1. Generating training data with simple prompts (SimPrompt) "
   ]
  },
  {
   "cell_type": "code",
   "execution_count": 81,
   "metadata": {},
   "outputs": [],
   "source": [
    "domain = 'news'\n",
    "messages = []\n",
    "\n",
    "for class_name in topics:\n",
    "    prompt = re.sub(\"_\", \" \", f\"Suppose you are a writer for {domain}. Please give an example of a synthetic {class_name} {domain}.\")\n",
    "    messages.append([{\"role\": \"system\", \"content\": prompt}])"
   ]
  },
  {
   "cell_type": "code",
   "execution_count": 83,
   "metadata": {},
   "outputs": [],
   "source": [
    "answers = generate_multiple_responses(messages)"
   ]
  },
  {
   "cell_type": "code",
   "execution_count": 85,
   "metadata": {},
   "outputs": [],
   "source": [
    "generated_data = {}\n",
    "\n",
    "for class_name, answer in zip(topics, answers):\n",
    "   generated_data[class_name] = answer"
   ]
  },
  {
   "cell_type": "code",
   "execution_count": null,
   "metadata": {},
   "outputs": [
    {
     "name": "stdout",
     "output_type": "stream",
     "text": [
      "Title: New Immigration Reform Bill Proposed in Congress\n",
      "\n",
      "In a landmark move, lawmakers in Congress have unveiled a comprehensive immigration reform bill aimed at addressing the nation's broken immigration system. The bill, titled the Secure and Inclusive Immigration Act, proposes a pathway to citizenship for millions of undocumented immigrants currently living in the United States.\n",
      "\n",
      "Under the proposed legislation, eligible undocumented immigrants would be able to apply for legal status, provided they meet certain criteria and pass background checks. Additionally, the bill includes provisions to enhance border security and modernize the legal immigration system to better meet the needs of the economy.\n",
      "\n",
      "Several advocacy groups and immigration experts have lauded the bill as a long-overdue step towards a more just and humane immigration policy. However, the bill's fate remains uncertain as it faces an uphill battle in Congress, where partisan divisions on immigration policy have long stymied progress.\n",
      "\n",
      "Supporters of the bill are optimistic that the momentum for reform is strong, citing recent shifts in public opinion and the need to address the pressing issues facing immigrant communities. Critics, on the other hand, argue that the bill is too lenient on enforcement and fails to adequately address the root causes of illegal immigration.\n",
      "\n",
      "As the debate over the Secure and Inclusive Immigration Act heats up on Capitol Hill, all eyes are on Congress to see whether lawmakers can put aside their differences and come together to enact meaningful immigration reform. Stay tuned for updates on this developing story.\n"
     ]
    }
   ],
   "source": [
    "print(generated_data[\"immigration\"])"
   ]
  },
  {
   "cell_type": "code",
   "execution_count": 90,
   "metadata": {},
   "outputs": [],
   "source": [
    "# Save the generated data to a JSON file with some formatting\n",
    "with open(\"generated_data.json\", \"w\") as f:\n",
    "    json.dump(generated_data, f, indent=4)"
   ]
  },
  {
   "cell_type": "markdown",
   "metadata": {},
   "source": [
    "2. Generating training data with attributed prompts (AttrPrompt)"
   ]
  },
  {
   "cell_type": "markdown",
   "metadata": {},
   "source": [
    "We recommend to use the Online ChatGPT Platform for this step since it only need one forward step. An example of the forward process is listed as follows:\n",
    "    \n",
    "    ```\n",
    "    First input\n",
    "    >  What do you think are important attributes to generate some diverse news from NYT under a specific topic, such as Football, Federal Budget. Examples: subtopics, writing style...\n",
    "\n",
    "    Second input\n",
    "    > Important attributes of news from the New York Times under a specific topic could include:\n",
    "\n",
    "    Subtopics: exploring different angles and subtopics within the main topic can lead to a wider range of news stories.\n",
    "\n",
    "    Writing style: varying the writing style can help to make the news stories more interesting and engaging for readers. \n",
    "\n",
    "    Sources: using a variety of sources, such as experts, eyewitnesses, and affected individuals, can provide different perspectives and add diversity to the news stories.\n",
    "\n",
    "    Geographical locations: covering the topic from different geographical locations can help to show how it affects different communities and provide a global perspective.\n",
    "    ```\n"
   ]
  },
  {
   "cell_type": "code",
   "execution_count": 96,
   "metadata": {},
   "outputs": [],
   "source": [
    "# Geographical Locations by Continent\n",
    "locations = [\n",
    "    \"North America\",\n",
    "    \"South America\",\n",
    "    \"Europe\",\n",
    "    \"Africa\",\n",
    "    \"Asia\",\n",
    "    \"Oceania\",\n",
    "    \"Antarctica\"\n",
    "]\n",
    "\n",
    "writing_styles = [\n",
    "    \"Analytical\",\n",
    "    \"Narrative\",\n",
    "    \"Opinionated\",\n",
    "    \"Investigative\",\n",
    "    \"Brief and Informative\",\n",
    "    \"Explanatory\",\n",
    "    \"Human-interest\",\n",
    "    \"Data-driven\",\n",
    "    \"Historical comparison\",\n",
    "    \"Satirical\"\n",
    "]\n",
    "\n",
    "sources = [\n",
    "    \"Government officials\",\n",
    "    \"Industry professionals\",\n",
    "    \"Community leaders\",\n",
    "    \"Nonprofit organizations\",\n",
    "    \"Data and statistics\",\n",
    "    \"Historical records\"\n",
    "]\n",
    "\n",
    "# Store the generated data in a dictionary\n",
    "additional_info = {\n",
    "    \"locations\": locations,\n",
    "    \"writing_styles\": writing_styles,\n",
    "    \"sources\": sources\n",
    "}\n",
    "\n",
    "# Save the generated data to a JSON file with some formatting\n",
    "with open(\"additional_info.json\", \"w\") as f:\n",
    "    json.dump(additional_info, f, indent=4)"
   ]
  },
  {
   "cell_type": "code",
   "execution_count": null,
   "metadata": {},
   "outputs": [],
   "source": [
    "topics_dict = {\n",
    "    \"Immigration\": [\n",
    "        \"Impact on local economies\",\n",
    "        \"Immigration policy reform\",\n",
    "        \"Stories of migrant families\"\n",
    "    ],\n",
    "    \"Gay Rights\": [\n",
    "        \"LGBTQ+ rights in the workplace\",\n",
    "        \"Legal protections for same-sex couples\",\n",
    "        \"Global perspectives on LGBTQ+ issues\"\n",
    "    ],\n",
    "    \"Gun Control\": [\n",
    "        \"Legislative debates on gun ownership\",\n",
    "        \"Gun violence and public health\",\n",
    "        \"Second Amendment interpretations\"\n",
    "    ],\n",
    "    \"Abortion\": [\n",
    "        \"State-level restrictions and legislation\",\n",
    "        \"Impact on women's health and access\",\n",
    "        \"Public opinion and political activism\"\n",
    "    ],\n",
    "    \"TV Show\": [\n",
    "        \"Popular streaming series trends\",\n",
    "        \"Impact of reality TV on culture\",\n",
    "        \"Representation and diversity in TV\"\n",
    "    ],\n",
    "    \"Music\": [\n",
    "        \"Streaming and the music industry\",\n",
    "        \"Popular genres across generations\",\n",
    "        \"Impact of music on mental health\"\n",
    "    ],\n",
    "    \"Movies\": [\n",
    "        \"Representation in Hollywood\",\n",
    "        \"Box office trends and streaming\",\n",
    "        \"Influence of international cinema\"\n",
    "    ],\n",
    "    \"Stocks and Bonds\": [\n",
    "        \"Market volatility and investor strategies\",\n",
    "        \"Role of bonds in retirement planning\",\n",
    "        \"Impact of interest rates on stocks and bonds\"\n",
    "    ],\n",
    "    \"Economy\": [\n",
    "        \"Inflation and consumer spending\",\n",
    "        \"Global trade and economic growth\",\n",
    "        \"Impact of fiscal policy on the economy\"\n",
    "    ],\n",
    "    \"International Business\": [\n",
    "        \"Global supply chain disruptions\",\n",
    "        \"Impact of trade wars and tariffs\",\n",
    "        \"Emerging markets and foreign investment\"\n",
    "    ],\n",
    "    \"Environment\": [\n",
    "        \"Climate change mitigation strategies\",\n",
    "        \"Impact of pollution on biodiversity\",\n",
    "        \"Renewable energy and sustainability\"\n",
    "    ],\n",
    "    \"Basketball\": [\n",
    "        \"Influential players and their legacy\",\n",
    "        \"The rise of international basketball\",\n",
    "        \"Youth development and college basketball\"\n",
    "    ]\n",
    "}"
   ]
  },
  {
   "cell_type": "code",
   "execution_count": 94,
   "metadata": {},
   "outputs": [],
   "source": [
    "# Save the generated data to a JSON file with some formatting\n",
    "with open(\"topics_dict.json\", \"w\") as f:\n",
    "    json.dump(topics_dict, f, indent=4)"
   ]
  },
  {
   "cell_type": "code",
   "execution_count": 99,
   "metadata": {},
   "outputs": [],
   "source": [
    "label_names = list(topics_dict.keys())"
   ]
  },
  {
   "cell_type": "code",
   "execution_count": null,
   "metadata": {},
   "outputs": [
    {
     "data": {
      "text/plain": [
       "['Immigration',\n",
       " 'Gay Rights',\n",
       " 'Gun Control',\n",
       " 'Abortion',\n",
       " 'TV Show',\n",
       " 'Music',\n",
       " 'Movies',\n",
       " 'Stocks and Bonds',\n",
       " 'Economy',\n",
       " 'International Business',\n",
       " 'Environment',\n",
       " 'Basketball']"
      ]
     },
     "execution_count": 100,
     "metadata": {},
     "output_type": "execute_result"
    }
   ],
   "source": [
    "label_names"
   ]
  },
  {
   "cell_type": "markdown",
   "metadata": {},
   "source": [
    "1. First lets get the classes with high similarity."
   ]
  },
  {
   "cell_type": "code",
   "execution_count": 107,
   "metadata": {},
   "outputs": [],
   "source": [
    "domain = 'news'\n",
    "data_source = \"New York Times\"\n",
    "label_names = label_names\n",
    "n_classes = 3\n",
    "prompt = [re.sub(\"_\", \" \", f\"Give {n_classes} most relevant classes related to {x} {domain} on {data_source} from the classes: {json.dumps(label_names)}. Write each class in a line, without enumeration. Do not include {x}.\") for x in label_names]"
   ]
  },
  {
   "cell_type": "code",
   "execution_count": 108,
   "metadata": {},
   "outputs": [],
   "source": [
    "messages = [[{\"role\": \"user\", \"content\": p}] for p in prompt]"
   ]
  },
  {
   "cell_type": "code",
   "execution_count": 109,
   "metadata": {},
   "outputs": [],
   "source": [
    "responses = generate_multiple_responses(messages)"
   ]
  },
  {
   "cell_type": "code",
   "execution_count": 116,
   "metadata": {},
   "outputs": [],
   "source": [
    "related_classes = {}\n",
    "\n",
    "for class_name, response in zip(label_names, responses):\n",
    "    related_classes[class_name] = response.split(\"\\n\")"
   ]
  },
  {
   "cell_type": "code",
   "execution_count": 117,
   "metadata": {},
   "outputs": [
    {
     "data": {
      "text/plain": [
       "{'Immigration': ['Economy', 'International Business', 'Environment'],\n",
       " 'Gay Rights': ['Immigration', 'International Business', 'Environment'],\n",
       " 'Gun Control': ['Immigration', 'Economy', 'Environment'],\n",
       " 'Abortion': ['Immigration', 'Economy', 'Environment'],\n",
       " 'TV Show': ['Immigration', 'Movies', 'Music'],\n",
       " 'Music': ['TV Show', 'Movies', 'Economy'],\n",
       " 'Movies': ['TV Show', 'Music', 'Economy'],\n",
       " 'Stocks and Bonds': ['Economy', 'International Business', 'Environment'],\n",
       " 'Economy': ['Stocks and Bonds', 'International Business', 'Environment'],\n",
       " 'International Business': ['Immigration', 'Economy', 'Environment'],\n",
       " 'Environment': ['Immigration', 'Economy', 'International Business'],\n",
       " 'Basketball': ['Immigration', 'Economy', 'International Business']}"
      ]
     },
     "execution_count": 117,
     "metadata": {},
     "output_type": "execute_result"
    }
   ],
   "source": [
    "related_classes"
   ]
  },
  {
   "cell_type": "code",
   "execution_count": null,
   "metadata": {},
   "outputs": [],
   "source": [
    "for classe, related in related_classes.items():\n",
    "    print(f\"Class: {classe}\")\n",
    "    print(\"Related classes:\")\n",
    "    for r in related:\n",
    "        print(f\"  - {r}\")"
   ]
  },
  {
   "cell_type": "code",
   "execution_count": 19,
   "metadata": {},
   "outputs": [],
   "source": [
    "# Save the generated data to a JSON file with some formatting\n",
    "with open(\"related_classes.json\", \"w\") as f:\n",
    "    json.dump(related_classes, f, indent=4)"
   ]
  },
  {
   "cell_type": "markdown",
   "metadata": {},
   "source": [
    "2. Let's generate attributes taking into account the classes with high similarity."
   ]
  },
  {
   "cell_type": "code",
   "execution_count": 136,
   "metadata": {},
   "outputs": [],
   "source": [
    "domain = 'news'\n",
    "data_source = \"New York Times\" \n",
    "attribute = \"subtopics\"\n",
    "n_sample = 3\n",
    "prompt = [re.sub(\"_\", \" \", f\"List {n_sample} diverse {attribute} related to {label} on {data_source}. These {attribute} should be unrelated to  {related}. \") for label, related in related_classes.items()]"
   ]
  },
  {
   "cell_type": "code",
   "execution_count": 137,
   "metadata": {},
   "outputs": [],
   "source": [
    "messages = [[{\"role\": \"user\", \"content\": p}] for p in prompt]"
   ]
  },
  {
   "cell_type": "code",
   "execution_count": 138,
   "metadata": {},
   "outputs": [],
   "source": [
    "responses = generate_multiple_responses(messages)"
   ]
  },
  {
   "cell_type": "code",
   "execution_count": 32,
   "metadata": {},
   "outputs": [
    {
     "data": {
      "text/plain": [
       "['1. Immigration policy and law enforcement in the United States\\n2. Immigrant rights and advocacy efforts in local communities\\n3. Impact of immigration on cultural diversity and integration in schools and neighborhoods',\n",
       " '1. LGBTQ+ Employment discrimination laws\\n2. Gay adoption rights and custody battles\\n3. Progress and setbacks in LGBTQ+ housing and homeless shelters',\n",
       " '1. Gun control legislation in relation to mental health policies\\n2. Impact of gun control measures on marginalized communities\\n3. Advocacy efforts by gun control groups and their effectiveness in passing legislation.',\n",
       " '1. Abortion access in rural communities \\n2. The impact of religion on abortion rights \\n3. Teenagers’ access to reproductive healthcare and abortion services',\n",
       " '1. TV Show Reviews and Critiques\\n2. Behind-the-Scenes Insights and Interviews with TV Show Cast and Crew\\n3. TV Show Ratings and Audience Reactions',\n",
       " '1. Music festivals in New York City \\n2. Impact of streaming services on the music industry \\n3. Rise of virtual concerts and live performances online',\n",
       " '1. Movie reviews and critiques\\n2. Coverage of film festivals in New York City\\n3. Profiles and interviews with filmmakers and actors in New York City',\n",
       " \"1. Technology: How advancements in artificial intelligence and algorithmic trading are impacting stock trading and bond markets on Wall Street.\\n2. Behavioral Finance: A look at the psychology behind investors' decision-making processes in the stock and bond markets, and how emotions can influence financial outcomes.\\n3. Corporate Governance: Examining the role of boards of directors in overseeing the management of publicly traded companies, and how governance practices can impact stock prices and bond performance.\",\n",
       " \"1. Fiscal Policy: Articles discussing the government's role in managing the economy through taxation, spending, and budgeting.\\n2. Labor Market: Coverage of trends and issues related to employment, wages, and job growth in various industries.\\n3. Economic Inequality: Analysis of income inequality, wealth distribution, and social mobility in the United States economy.\",\n",
       " '1. International trade agreements and tariffs\\n2. Global supply chain management and logistics\\n3. Foreign direct investment and multinational corporations in emerging markets',\n",
       " '1. Climate Change\\n2. Wildlife Conservation\\n3. Pollution Control',\n",
       " '1. Player wellness and mental health in the NBA\\n2. Impact of technology and data analytics on basketball strategy and player performance\\n3. Coverage of iconic basketball moments and milestones throughout history']"
      ]
     },
     "execution_count": 32,
     "metadata": {},
     "output_type": "execute_result"
    }
   ],
   "source": [
    "responses "
   ]
  },
  {
   "cell_type": "code",
   "execution_count": 30,
   "metadata": {},
   "outputs": [],
   "source": [
    "topics_dict2 = {}\n",
    "\n",
    "for class_name, response in zip(label_names, responses):\n",
    "    # Split the response in \n",
    "    topics_dict2[class_name] = response.split(\"\\n\")"
   ]
  },
  {
   "cell_type": "code",
   "execution_count": 31,
   "metadata": {},
   "outputs": [],
   "source": [
    "# Save the generated data to a JSON file with some formatting\n",
    "with open(\"topics_dict2.json\", \"w\") as f:\n",
    "    json.dump(topics_dict2, f, indent=4)"
   ]
  },
  {
   "cell_type": "markdown",
   "metadata": {},
   "source": [
    "3. Optional filter subtopics for the class-dependent attributes."
   ]
  },
  {
   "cell_type": "code",
   "execution_count": 6,
   "metadata": {},
   "outputs": [],
   "source": [
    "# Load topics_dict2 from the JSON file\n",
    "with open(\"topics_dict2.json\", \"r\") as f:\n",
    "    topics_dict2 = json.load(f)"
   ]
  },
  {
   "cell_type": "code",
   "execution_count": 14,
   "metadata": {},
   "outputs": [],
   "source": [
    "filtered_topics_dict2 = {}\n",
    "\n",
    "for attribute, similar_keywords in topics_dict2.items():\n",
    "\n",
    "    prompt = [re.sub(\"_\", \" \", f\"Consider {attribute}. Is it relevant to the following categories: {similar_keyword}? Return 1 for yes and 0 for no.\") for similar_keyword in similar_keywords]    \n",
    "    \n",
    "    messages = [[{\"role\": \"user\", \"content\": p}] for p in prompt]\n",
    "\n",
    "    responses = generate_multiple_responses(messages)\n",
    "    \n",
    "    for i, msg in enumerate(responses):\n",
    "        if 'yes' in msg or '1' in msg:\n",
    "            # Check if is empty\n",
    "            if attribute not in filtered_topics_dict2:\n",
    "                filtered_topics_dict2[attribute] = []\n",
    "            filtered_topics_dict2[attribute].append(similar_keywords[i])\n",
    "        else:\n",
    "            print(f\"{similar_keywords[i]} is not relevant to {attribute}\")"
   ]
  },
  {
   "cell_type": "code",
   "execution_count": 20,
   "metadata": {},
   "outputs": [],
   "source": [
    "# Save the generated data to a JSON file with some formatting\n",
    "with open(\"filtered_topics_dict.json\", \"w\") as f:\n",
    "    json.dump(filtered_topics_dict2, f, indent=4)"
   ]
  },
  {
   "cell_type": "markdown",
   "metadata": {},
   "source": [
    "4. Generate training data with attributes"
   ]
  },
  {
   "cell_type": "code",
   "execution_count": 33,
   "metadata": {},
   "outputs": [],
   "source": [
    "# Load the filtered_topics_dict from the JSON file\n",
    "with open(\"topics_dict2.json\", \"r\") as f:\n",
    "    subtopics_dict = json.load(f)\n",
    "\n",
    "# Load the related_classes from the JSON file\n",
    "with open(\"related_classes.json\", \"r\") as f:\n",
    "    related_classes = json.load(f)"
   ]
  },
  {
   "cell_type": "code",
   "execution_count": null,
   "metadata": {},
   "outputs": [],
   "source": [
    "# Some additional information\n",
    "length = 100\n",
    "style = \"Narrative\"\n",
    "location = \"North America\"\n",
    "topic = \"Immigration\"\n",
    "\n",
    "prompt_input = f\"Give a synthetic sample of news in NYT on {topic} following the requirements below: \\n\\\n",
    "            1. should focus on '{subtopics_dict[topic][0]}';\\n \\\n",
    "            2. should be in length between {length} words and {length + 50} words;\\n \\\n",
    "            3. The writing style of the news should be '{style}';\\n \\\n",
    "            4. The location of the news should be in {location}; \\n \\\n",
    "            5. The news must be relevant to {topic} and irrelevant to: {related_classes[topic]}.\"\n",
    "\n",
    "messages = [{\"role\": \"user\", \"content\": prompt_input}]"
   ]
  },
  {
   "cell_type": "code",
   "execution_count": 50,
   "metadata": {},
   "outputs": [],
   "source": [
    "response = client.chat.completions.create(\n",
    "    model=model,\n",
    "    messages=messages,\n",
    "    temperature=1.0,\n",
    "    max_tokens=1024,\n",
    "    top_p=0.95,\n",
    ")"
   ]
  },
  {
   "cell_type": "code",
   "execution_count": null,
   "metadata": {},
   "outputs": [],
   "source": [
    "synthetic_new = response.choices[0].message.content\n",
    "\n",
    "# Insert \\n at the end of each sentence, marked by \".\"\n",
    "synthetic_new = synthetic_new.replace(\". \", \".\\n\")"
   ]
  },
  {
   "cell_type": "code",
   "execution_count": 59,
   "metadata": {},
   "outputs": [
    {
     "data": {
      "text/plain": [
       "'Immigration'"
      ]
     },
     "execution_count": 59,
     "metadata": {},
     "output_type": "execute_result"
    }
   ],
   "source": [
    "topic"
   ]
  },
  {
   "cell_type": "code",
   "execution_count": 58,
   "metadata": {},
   "outputs": [
    {
     "data": {
      "text/plain": [
       "'1. Immigration policy and law enforcement in the United States'"
      ]
     },
     "execution_count": 58,
     "metadata": {},
     "output_type": "execute_result"
    }
   ],
   "source": [
    "subtopics_dict[topic][0]"
   ]
  },
  {
   "cell_type": "code",
   "execution_count": 57,
   "metadata": {},
   "outputs": [
    {
     "name": "stdout",
     "output_type": "stream",
     "text": [
      "In a recent development in North America, the United States government has announced new changes to immigration policy and law enforcement.\n",
      "The new measures aim to tighten border security and crack down on illegal immigration.\n",
      "Under the new policy, stricter vetting procedures will be implemented for visa applicants, and increased resources will be allocated to border patrol agents.\n",
      "Additionally, there will be a renewed focus on deporting individuals who have entered the country illegally.\n",
      "This news comes amidst ongoing debates and discussions surrounding immigration reform in the United States.\n",
      "Stay tuned for further updates on this evolving issue.\n"
     ]
    }
   ],
   "source": [
    "print(synthetic_new)"
   ]
  },
  {
   "cell_type": "code",
   "execution_count": 62,
   "metadata": {},
   "outputs": [],
   "source": [
    "# Some additional information\n",
    "length = 100\n",
    "style = \"Satirical\"\n",
    "location = \"North America\"\n",
    "topic = \"TV Show\"\n",
    "\n",
    "prompt_input = f\"Give a synthetic sample of news in NYT on {topic} following the requirements below: \\n\\\n",
    "            1. should focus on '{subtopics_dict[topic][0]}';\\n \\\n",
    "            2. should be in length between {length} words and {length + 50} words;\\n \\\n",
    "            3. The writing style of the news should be '{style}';\\n \\\n",
    "            4. The location of the news should be in {location}; \\n \\\n",
    "            5. The news must be relevant to {topic} and irrelevant to: {related_classes[topic]}.\"\n",
    "\n",
    "messages = [{\"role\": \"user\", \"content\": prompt_input}]"
   ]
  },
  {
   "cell_type": "code",
   "execution_count": 63,
   "metadata": {},
   "outputs": [],
   "source": [
    "response = client.chat.completions.create(\n",
    "    model=model,\n",
    "    messages=messages,\n",
    "    temperature=1.0,\n",
    "    max_tokens=1024,\n",
    "    top_p=0.95,\n",
    ")"
   ]
  },
  {
   "cell_type": "code",
   "execution_count": 64,
   "metadata": {},
   "outputs": [],
   "source": [
    "synthetic_new = response.choices[0].message.content\n",
    "\n",
    "# Insert \\n at the end of each sentence, marked by \".\"\n",
    "synthetic_new = synthetic_new.replace(\". \", \".\\n\")"
   ]
  },
  {
   "cell_type": "code",
   "execution_count": 65,
   "metadata": {},
   "outputs": [
    {
     "name": "stdout",
     "output_type": "stream",
     "text": [
      "North America (NYT) - In a shocking turn of events, the latest TV show to hit the airwaves has left critics scratching their heads - and not in a good way.\n",
      "The new series, titled \"Reality Bites Back,\" has been hailed as a revolutionary take on the reality TV genre.\n",
      "Unfortunately, it seems that the only thing revolutionary about this show is its ability to make viewers question their life choices.\n",
      "One critic quipped, \"I would rather watch paint dry than endure another episode of this mind-numbing drivel.\" Ouch.\n",
      "Looks like this show might be in need of a reality check of its own.\n"
     ]
    }
   ],
   "source": [
    "print(synthetic_new)"
   ]
  },
  {
   "cell_type": "code",
   "execution_count": null,
   "metadata": {},
   "outputs": [],
   "source": []
  }
 ],
 "metadata": {
  "colab": {
   "provenance": [],
   "toc_visible": true
  },
  "kernelspec": {
   "display_name": "Python 3",
   "language": "python",
   "name": "python3"
  },
  "language_info": {
   "codemirror_mode": {
    "name": "ipython",
    "version": 3
   },
   "file_extension": ".py",
   "mimetype": "text/x-python",
   "name": "python",
   "nbconvert_exporter": "python",
   "pygments_lexer": "ipython3",
   "version": "3.11.8"
  }
 },
 "nbformat": 4,
 "nbformat_minor": 0
}
